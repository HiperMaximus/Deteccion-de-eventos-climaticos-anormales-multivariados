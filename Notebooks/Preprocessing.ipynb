{
 "cells": [
  {
   "cell_type": "code",
   "execution_count": 1,
   "metadata": {},
   "outputs": [],
   "source": [
    "from esdl.cube_store import CubesStore\n",
    "import xarray as xr\n",
    "import numpy as np\n",
    "import pandas as pd"
   ]
  },
  {
   "cell_type": "code",
   "execution_count": 2,
   "metadata": {},
   "outputs": [
    {
     "name": "stdout",
     "output_type": "stream",
     "text": [
      "CubesStore() has been renamed; use CubeStore().\n"
     ]
    }
   ],
   "source": [
    "cs = CubesStore()\n",
    "fullCube=cs['CUBE_V2.0.0_global_time_optimized_0.25deg']"
   ]
  },
  {
   "cell_type": "code",
   "execution_count": 3,
   "metadata": {},
   "outputs": [],
   "source": [
    "#coordenadas de Bucaramanga\n",
    "lat=7.1193\n",
    "lon=-73.1227\n",
    "bucaros = fullCube.sel(lat = lat, lon = lon,method='nearest')"
   ]
  },
  {
   "cell_type": "code",
   "execution_count": 4,
   "metadata": {},
   "outputs": [],
   "source": [
    "variables=list(bucaros.variables)"
   ]
  },
  {
   "cell_type": "code",
   "execution_count": 5,
   "metadata": {},
   "outputs": [],
   "source": [
    "nantime=bucaros['c_emissions']\n",
    "allDates=nantime['time'].values\n",
    "workingDates=allDates[np.logical_not(np.isnan(nantime.values))]\n",
    "sliceDates=slice(workingDates[0],workingDates[-1])\n",
    "bucaros=bucaros.sel(time=sliceDates)"
   ]
  },
  {
   "cell_type": "code",
   "execution_count": 6,
   "metadata": {},
   "outputs": [],
   "source": [
    "nonSeries=['Rg','country_mask','mask','lon_bnds','time','time_bnds','lon','lat_bnds','lat','water_mask','srex_mask']"
   ]
  },
  {
   "cell_type": "code",
   "execution_count": 7,
   "metadata": {},
   "outputs": [],
   "source": [
    "for i in nonSeries:\n",
    "    variables.remove(i)"
   ]
  },
  {
   "cell_type": "code",
   "execution_count": 8,
   "metadata": {},
   "outputs": [],
   "source": [
    "conserve=[]\n",
    "for name in variables:\n",
    "    if not(np.isnan(np.sum(bucaros[name].values))):\n",
    "        conserve.append(name)"
   ]
  },
  {
   "cell_type": "code",
   "execution_count": 9,
   "metadata": {},
   "outputs": [
    {
     "data": {
      "text/plain": [
       "31"
      ]
     },
     "execution_count": 9,
     "metadata": {},
     "output_type": "execute_result"
    }
   ],
   "source": [
    "len(conserve)"
   ]
  },
  {
   "cell_type": "code",
   "execution_count": 10,
   "metadata": {},
   "outputs": [],
   "source": [
    "df=pd.DataFrame([])\n",
    "for name in conserve:\n",
    "    df[name]=bucaros[name].values\n",
    "df['time']=pd.to_datetime(workingDates)\n",
    "#df.set_index(keys='time')"
   ]
  },
  {
   "cell_type": "code",
   "execution_count": 11,
   "metadata": {},
   "outputs": [],
   "source": [
    "df.to_csv('Bucaros.csv', encoding='utf-8',index=False)"
   ]
  },
  {
   "cell_type": "code",
   "execution_count": null,
   "metadata": {},
   "outputs": [],
   "source": []
  }
 ],
 "metadata": {
  "kernelspec": {
   "display_name": "Python 3",
   "language": "python",
   "name": "python3"
  },
  "language_info": {
   "codemirror_mode": {
    "name": "ipython",
    "version": 3
   },
   "file_extension": ".py",
   "mimetype": "text/x-python",
   "name": "python",
   "nbconvert_exporter": "python",
   "pygments_lexer": "ipython3",
   "version": "3.7.6"
  }
 },
 "nbformat": 4,
 "nbformat_minor": 4
}
